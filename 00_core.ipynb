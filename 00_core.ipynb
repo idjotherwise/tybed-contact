{
 "cells": [
  {
   "cell_type": "code",
   "execution_count": null,
   "metadata": {},
   "outputs": [],
   "source": [
    "#| default_exp core"
   ]
  },
  {
   "cell_type": "markdown",
   "metadata": {},
   "source": [
    "# core -- Basic Contacts\n",
    "\n",
    "> Structures to hold contact details"
   ]
  },
  {
   "cell_type": "code",
   "execution_count": null,
   "metadata": {},
   "outputs": [],
   "source": [
    "#| export\n",
    "from fastcore.utils import *"
   ]
  },
  {
   "cell_type": "code",
   "execution_count": null,
   "metadata": {},
   "outputs": [],
   "source": [
    "#|hide\n",
    "from nbdev.showdoc import *\n",
    "from fastcore.test import *\n",
    "from tybed_contact.db import Person"
   ]
  },
  {
   "cell_type": "code",
   "execution_count": null,
   "metadata": {},
   "outputs": [],
   "source": [
    "#| export\n",
    "class Contact:\n",
    "    \"Create a contact from a Person and Email\"\n",
    "    def __init__(self,\n",
    "                 person:Person, # `Person` of the contact\n",
    "                 email:str, # Email of the contact\n",
    "                ):\n",
    "        self.name=person.first_name + ' ' + person.last_name\n",
    "        self.email=email\n",
    "        self.job = person.occupation\n",
    "    def __str__(self): \n",
    "        if len(self.job) > 0:\n",
    "            return f\"{self.name} ({self.email}) [{self.job}]\"\n",
    "        else:\n",
    "            return f\"{self.name} ({self.email})\"\n",
    "    __repr__ = __str__"
   ]
  },
  {
   "cell_type": "markdown",
   "metadata": {},
   "source": [
    "Here's an example of creating and displaying a contact"
   ]
  },
  {
   "cell_type": "code",
   "execution_count": null,
   "metadata": {},
   "outputs": [
    {
     "data": {
      "text/plain": [
       "ifan johnston (ifan.johnston@gmail.com) [software dev]"
      ]
     },
     "execution_count": null,
     "metadata": {},
     "output_type": "execute_result"
    }
   ],
   "source": [
    "i = Contact(Person(first_name=\"ifan\", last_name=\"johnston\", occupation=\"software dev\"), \"ifan.johnston@gmail.com\")\n",
    "i"
   ]
  },
  {
   "cell_type": "code",
   "execution_count": null,
   "metadata": {},
   "outputs": [
    {
     "data": {
      "text/plain": [
       "ifan johnston (ifan.johnston@gmail.com)"
      ]
     },
     "execution_count": null,
     "metadata": {},
     "output_type": "execute_result"
    }
   ],
   "source": [
    "i = Contact(Person(first_name=\"ifan\", last_name=\"johnston\"), \"ifan.johnston@gmail.com\")\n",
    "i"
   ]
  },
  {
   "cell_type": "code",
   "execution_count": null,
   "metadata": {},
   "outputs": [],
   "source": [
    "test_eq(i.name, \"ifan johnston\")\n",
    "test_eq(i.email, \"ifan.johnston@gmail.com\")"
   ]
  },
  {
   "cell_type": "code",
   "execution_count": null,
   "metadata": {},
   "outputs": [],
   "source": [
    "#| export\n",
    "@patch\n",
    "def __eq__(self:Contact, c:Contact): return (self.name, self.email)==(c.name, c.email)"
   ]
  },
  {
   "cell_type": "markdown",
   "metadata": {},
   "source": [
    "You can check equality of contacts:"
   ]
  },
  {
   "cell_type": "code",
   "execution_count": null,
   "metadata": {},
   "outputs": [],
   "source": [
    "test_eq(i, Contact(Person(first_name='ifan', last_name='johnston'), \"ifan.johnston@gmail.com\"))"
   ]
  }
 ],
 "metadata": {
  "kernelspec": {
   "display_name": "Python 3 (ipykernel)",
   "language": "python",
   "name": "python3"
  }
 },
 "nbformat": 4,
 "nbformat_minor": 4
}
